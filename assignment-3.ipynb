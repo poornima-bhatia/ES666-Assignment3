{
  "nbformat": 4,
  "nbformat_minor": 0,
  "metadata": {
    "colab": {
      "private_outputs": true,
      "provenance": [],
      "authorship_tag": "ABX9TyNxDCyCdB+zJUWdqUsefRXP",
      "include_colab_link": true
    },
    "kernelspec": {
      "name": "python3",
      "display_name": "Python 3"
    },
    "language_info": {
      "name": "python"
    }
  },
  "cells": [
    {
      "cell_type": "markdown",
      "metadata": {
        "id": "view-in-github",
        "colab_type": "text"
      },
      "source": [
        "<a href=\"https://colab.research.google.com/github/poornima-bhatia/ES666-Assignment3/blob/main/assignment-3.ipynb\" target=\"_parent\"><img src=\"https://colab.research.google.com/assets/colab-badge.svg\" alt=\"Open In Colab\"/></a>"
      ]
    },
    {
      "cell_type": "code",
      "execution_count": null,
      "metadata": {
        "id": "aaGY88YNZyHW"
      },
      "outputs": [],
      "source": [
        "from google.colab import drive\n",
        "drive.mount('/content/drive')"
      ]
    },
    {
      "cell_type": "code",
      "source": [
        "import numpy as np\n",
        "import cv2\n",
        "import matplotlib.pyplot as plt\n",
        "import os\n",
        "import glob"
      ],
      "metadata": {
        "id": "cV6z_0xkZ4k0"
      },
      "execution_count": null,
      "outputs": []
    },
    {
      "cell_type": "code",
      "source": [
        "class PanaromaStitcher():\n",
        "    def _init_(self):\n",
        "        pass\n",
        "    def keypoints_descriptors(self,image):\n",
        "        sift = cv2.SIFT_create()\n",
        "        keypoints, descriptors = sift.detectAndCompute(image, None)\n",
        "        descriptors = descriptors.astype(np.uint8)\n",
        "        return keypoints, descriptors\n",
        "\n",
        "    def source_destination_points(self,image1, image2):\n",
        "        gray1 = cv2.cvtColor(image1, cv2.COLOR_BGR2GRAY)\n",
        "        gray2 = cv2.cvtColor(image2, cv2.COLOR_BGR2GRAY)\n",
        "        keypoints1, descriptors1 = self.keypoints_descriptors(gray1)\n",
        "        keypoints2, descriptors2 = self.keypoints_descriptors(gray2)\n",
        "        bf = cv2.BFMatcher(cv2.NORM_HAMMING, crossCheck=True)\n",
        "        matches = bf.match(descriptors1, descriptors2)\n",
        "        matches = sorted(matches, key=lambda x: x.distance)\n",
        "        draw_matching = cv2.drawMatches(image1, keypoints1, image2, keypoints2, matches, outImg=None)\n",
        "        source_points = np.float32([keypoints1[m.queryIdx].pt for m in matches]).reshape(-1, 2)\n",
        "        destination_points = np.float32([keypoints2[m.trainIdx].pt for m in matches]).reshape(-1, 2)\n",
        "        return source_points, destination_points, draw_matching\n",
        "\n",
        "    def homography(self,source_points, destination_points):\n",
        "        num_points = source_points.shape[0]\n",
        "        A_matrix = []\n",
        "        for i in range(num_points):\n",
        "            src_x, src_y = source_points[i, 0], source_points[i, 1]\n",
        "            dst_x, dst_y = destination_points[i, 0], destination_points[i, 1]\n",
        "            A_matrix.append([src_x, src_y, 1, 0, 0, 0, -dst_x * src_x, -dst_x * src_y, -dst_x])\n",
        "            A_matrix.append([0, 0, 0, src_x, src_y, 1, -dst_y * src_x, -dst_y * src_y, -dst_y])\n",
        "        A_matrix = np.asarray(A_matrix)\n",
        "        U, S, Vh = np.linalg.svd(A_matrix) # perform SVD\n",
        "        L = Vh[-1, :] / Vh[-1, -1]\n",
        "        H = L.reshape(3, 3)\n",
        "        return H\n",
        "\n",
        "    def ransac(self,source_points, destination_points):\n",
        "        n = source_points.shape[0]\n",
        "        _H = None\n",
        "        max_inliers = 0\n",
        "        threshold = 0.5\n",
        "        for i in range(10000):\n",
        "            idx = np.random.choice(n, 4, replace=False)\n",
        "            H = self.homography(source_points[idx], destination_points[idx])\n",
        "            source_points_hat = np.hstack((source_points, np.ones((n, 1))))\n",
        "            destination_points_hat = np.hstack((destination_points, np.ones((n, 1))))\n",
        "            destination_points_hat_hat = np.matmul(H, source_points_hat.T).T\n",
        "            destination_points_hat_hat = destination_points_hat_hat[:, :2] / destination_points_hat_hat[:, 2:]\n",
        "            diff = np.linalg.norm(destination_points_hat_hat - destination_points, axis=1)\n",
        "            inliers = np.sum(diff < threshold)\n",
        "            if inliers > max_inliers:\n",
        "                max_inliers = inliers\n",
        "                _H = H\n",
        "        return _H\n",
        "    def edges_images(self,image, H):\n",
        "        factor = 4\n",
        "        h, w, _ = image.shape\n",
        "        _h, _w = factor*h, factor*w\n",
        "        edge_image = np.zeros((_h, _w, 3), dtype=np.uint8)\n",
        "        for y in range(-h, _h-h):\n",
        "            for x in range(-w, _w-w):\n",
        "                pt = np.dot(H, np.array([x, y, 1]))\n",
        "                pt = pt / pt[2]\n",
        "                if 0 <= pt[0] < image.shape[1] and 0 <= pt[1] < image.shape[0]:\n",
        "                    x0, y0 = int(pt[0]), int(pt[1])\n",
        "                    x1, y1 = x0 + 1, y0 + 1\n",
        "                    alpha = pt[0] - x0\n",
        "                    beta = pt[1] - y0\n",
        "                    if 0 <= x0 < image.shape[1] and 0 <= x1 < image.shape[1] and \\\n",
        "                    0 <= y0 < image.shape[0] and 0 <= y1 < image.shape[0]:\n",
        "                        interpolated_color = (1 - alpha) * (1 - beta) * image[y0, x0] + \\\n",
        "                                            alpha * (1 - beta) * image[y0, x1] + \\\n",
        "                                            (1 - alpha) * beta * image[y1, x0] + \\\n",
        "                                            alpha * beta * image[y1, x1]\n",
        "                        edge_image[y+h, x+w] = interpolated_color.astype(np.uint8)\n",
        "        return edge_image, h, w\n",
        "\n",
        "    # function to remove the black background\n",
        "    def remove_black_background(self,img):\n",
        "        mask = img.sum(axis=2) > 0\n",
        "        y, x = np.where(mask)\n",
        "        x_min, x_max = x.min(), x.max()\n",
        "        y_min, y_max = y.min(), y.max()\n",
        "        img_cropped = img[y_min:y_max+1, x_min:x_max+1, :]\n",
        "        return img_cropped\n",
        "\n",
        "    # function to align the images\n",
        "    def combined_images(self,img1, img2, H, focus=2, blend=True):\n",
        "        h1, w1 = img1.shape[:2]\n",
        "        h2, w2 = img2.shape[:2]\n",
        "        corners1 = np.array([[0, 0], [0, h1], [w1, h1], [w1, 0]], dtype=np.float32)\n",
        "        corners2 = np.array([[0, 0], [0, h2], [w2, h2], [w2, 0]], dtype=np.float32)\n",
        "\n",
        "        corners2_transformed = cv2.perspectiveTransform(corners2.reshape(1, -1, 2), H).reshape(-1, 2)\n",
        "        corners = np.concatenate((corners1, corners2_transformed), axis=0)\n",
        "        x_min, y_min = np.int32(corners.min(axis=0).ravel() - 0.5)\n",
        "        x_max, y_max = np.int32(corners.max(axis=0).ravel() + 0.5)\n",
        "\n",
        "        T = np.array([[1, 0, -x_min], [0, 1, -y_min], [0, 0, 1]])\n",
        "        H_inv = np.linalg.inv(T.dot(H)) # inverse of the homography matrix\n",
        "\n",
        "        if focus == 1:\n",
        "            img_transformed, h_, w_ = self.edges_images(img2, H)\n",
        "            img_result = img_transformed.copy()\n",
        "            img_result[h_ : h1 + h_, w_ : w1 + w_] = img1\n",
        "\n",
        "            if blend:\n",
        "                img_re_edge = img_result[h_ : h_ + h1 , -5 + w_ : w_ + 5]\n",
        "                img_result[h_:h_+h1 , -5 + w_ : w_ + 5] = cv2.GaussianBlur(img_re_edge, (3, 1), 5, 5)\n",
        "                img_re_edge = img_result[h_ : h_ + h1 , w2 - 5 + w_ : w_ + 5 + w2]\n",
        "                img_result[h_ : h_ + h1 , w2 - 5 + w_ : w_ + 5 + w2] =  cv2.GaussianBlur(img_re_edge, (3, 1), 5, 5)\n",
        "                img_re_edge = img_result[-5 + h_ : h_ + 5 , w_ : w_ + w1]\n",
        "                img_result[-5 + h_ : h_ + 5 , w_ : w_ + w1] =  cv2.GaussianBlur(img_re_edge, (1, 3), 5, 5)\n",
        "                img_re_edge = img_result[h2 - 5 + h_ : h_ + 5  + h2, + w_ : w_ + w1]\n",
        "                img_result[h2 - 5 + h_ : h_ + 5  + h2, w_ : w_ + w1] =  cv2.GaussianBlur(img_re_edge, (1, 3), 5, 5)\n",
        "\n",
        "        else:\n",
        "            img_transformed, h_, w_ = self.edges_images(img1, H_inv)\n",
        "            img_result = img_transformed.copy()\n",
        "            img_result[-y_min + h_ : h2 - y_min + h_, -x_min + w_ : w2 - x_min + w_] = img2\n",
        "\n",
        "            if blend:\n",
        "                img_re_edge = img_result[-y_min + h_ : h_ + h2 - y_min, -x_min - 5 + w_ : w_ + 5 - x_min]\n",
        "                img_result[-y_min + h_:h_+h2 - y_min, -x_min -5+ w_:w_+5 - x_min] = cv2.GaussianBlur(img_re_edge, (3, 1), 5, 5)\n",
        "                img_re_edge = img_result[-y_min + h_ : h_ + h2 - y_min, -x_min + w2 - 5+  w_ : w_ + 5 - x_min + w2]\n",
        "                img_result[-y_min + h_ : h_ + h2 - y_min, - x_min + w2 - 5+ w_ : w_ + 5 - x_min + w2] =  cv2.GaussianBlur(img_re_edge, (3, 1), 5, 5)\n",
        "                img_re_edge = img_result[-y_min - 5 + h_ : h_ + 5 - y_min, -x_min + w_ : w_ + w2 - x_min]\n",
        "                img_result[-y_min - 5 + h_ : h_ + 5 - y_min, - x_min + w_ : w_ + w2 - x_min] =  cv2.GaussianBlur(img_re_edge, (1, 3), 5, 5)\n",
        "                img_re_edge = img_result[-y_min + h2 - 5 + h_ : h_ + 5 - y_min + h2, - x_min + w_ : w_ + w2 - x_min]\n",
        "                img_result[-y_min + h2 - 5 + h_ : h_ + 5 - y_min + h2, -x_min + w_ : w_ + w2 - x_min] =  cv2.GaussianBlur(img_re_edge, (1, 3), 5, 5)\n",
        "\n",
        "        return img_result"
      ],
      "metadata": {
        "id": "5cpyq2VBZzUM"
      },
      "execution_count": null,
      "outputs": []
    },
    {
      "cell_type": "code",
      "source": [
        "def show_image(img, w=0, h=0, axis=False, title=''):\n",
        "    if w == 0 or h == 0: plt.figure()\n",
        "    else: plt.figure(figsize=(w, h)) # set the size of the figure\n",
        "    plt.title(title) # set the title of the figure\n",
        "    plt.imshow(img) # show the image\n",
        "    if axis == False: plt.axis('off') # turn off the axis\n",
        "    plt.show()\n",
        "def open_resize(img, w, h):\n",
        "    image = cv2.imread(img) # read the image\n",
        "    image = cv2.resize(image, (w, h)) # resize the image\n",
        "    return image"
      ],
      "metadata": {
        "id": "IyMOxc6Hytqf"
      },
      "execution_count": null,
      "outputs": []
    },
    {
      "cell_type": "code",
      "source": [
        "fun = PanaromaStitcher()"
      ],
      "metadata": {
        "id": "KNph2Y1K1NbJ"
      },
      "execution_count": null,
      "outputs": []
    },
    {
      "cell_type": "markdown",
      "source": [
        "### path => I1"
      ],
      "metadata": {
        "id": "HxSUKMzEz-U6"
      }
    },
    {
      "cell_type": "code",
      "source": [
        "path1 = '/content/drive/MyDrive/Colab Notebooks/content/Images/I1/STA_0031.JPG'\n",
        "path2 = '/content/drive/MyDrive/Colab Notebooks/content/Images/I1/STB_0032.JPG'\n",
        "path3 = '/content/drive/MyDrive/Colab Notebooks/content/Images/I1/STC_0033.JPG'\n",
        "path4 = '/content/drive/MyDrive/Colab Notebooks/content/Images/I1/STD_0034.JPG'\n",
        "path5 = '/content/drive/MyDrive/Colab Notebooks/content/Images/I1/STE_0035.JPG'\n",
        "path6 = '/content/drive/MyDrive/Colab Notebooks/content/Images/I1/STF_0036.JPG'"
      ],
      "metadata": {
        "id": "oBr6ynnX0Ze8"
      },
      "execution_count": null,
      "outputs": []
    },
    {
      "cell_type": "code",
      "source": [
        "image1 = open_resize(path1, 600 , 400)\n",
        "image2 = open_resize(path2, 600 , 400)\n",
        "image3 = open_resize(path3, 600 , 400)\n",
        "image4 = open_resize(path4, 600 , 400)\n",
        "image5 = open_resize(path5, 600 , 400)\n",
        "image6 = open_resize(path6, 600 , 400)\n",
        "show_image(image1, axis=True)\n",
        "show_image(image2, axis=True)\n",
        "show_image(image3, axis=True)\n",
        "show_image(image4, axis=True)\n",
        "show_image(image5, axis=True)\n",
        "show_image(image6, axis=True)"
      ],
      "metadata": {
        "id": "Xw0AMAnbZ_r-"
      },
      "execution_count": null,
      "outputs": []
    },
    {
      "cell_type": "code",
      "source": [
        "homography_matrix_list = []"
      ],
      "metadata": {
        "id": "WFE-Ty3PaCmO"
      },
      "execution_count": null,
      "outputs": []
    },
    {
      "cell_type": "code",
      "source": [
        "source_points_1, destination_points_1, matching_result_1 = fun.source_destination_points(image1, image2)\n",
        "_H1 = fun.ransac(source_points_1, destination_points_1)\n",
        "mergered_image_1 = fun.combined_images(image1, image2, _H1, focus=2, blend=True)\n",
        "mergered_image_1 = fun.remove_black_background((mergered_image_1))\n",
        "homography_matrix_list.append(_H1)\n",
        "print(_H1)\n",
        "show_image(mergered_image_1, axis=True)"
      ],
      "metadata": {
        "id": "_K8cVob0aHBN"
      },
      "execution_count": null,
      "outputs": []
    },
    {
      "cell_type": "code",
      "source": [
        "source_points_2, destination_points_2, matching_result_2 = fun.source_destination_points(mergered_image_1, image3)\n",
        "_H2 = fun.ransac(source_points_2, destination_points_2)\n",
        "mergered_image_2 = fun.combined_images(mergered_image_1, image3, _H2, focus=2, blend=True)\n",
        "mergered_image_2 = fun.remove_black_background((mergered_image_2))\n",
        "homography_matrix_list.append(_H2)\n",
        "print(_H2)\n",
        "show_image(mergered_image_2, axis=True)"
      ],
      "metadata": {
        "id": "X_moEFuJaIxP"
      },
      "execution_count": null,
      "outputs": []
    },
    {
      "cell_type": "code",
      "source": [
        "source_points_3, destination_points_3, matching_result_3 = fun.source_destination_points(mergered_image_2, image4)\n",
        "_H3 = fun.ransac(source_points_3, destination_points_3)\n",
        "mergered_image_3 = fun.combined_images(mergered_image_2, image4, _H3, focus=2, blend=True)\n",
        "mergered_image_3 = fun.remove_black_background((mergered_image_3))\n",
        "homography_matrix_list.append(_H3)\n",
        "print(_H3)\n",
        "show_image(mergered_image_3, axis=True)"
      ],
      "metadata": {
        "id": "arc1mwCm15BA"
      },
      "execution_count": null,
      "outputs": []
    },
    {
      "cell_type": "code",
      "source": [
        "source_points_4, destination_points_4, matching_result_4 = fun.source_destination_points(mergered_image_3, image5)\n",
        "_H4 = fun.ransac(source_points_4, destination_points_4)\n",
        "mergered_image_4 = fun.combined_images(mergered_image_3, image5, _H4, focus=2, blend=True)\n",
        "mergered_image_4 = fun.remove_black_background((mergered_image_4))\n",
        "homography_matrix_list.append(_H4)\n",
        "print(_H4)\n",
        "show_image(mergered_image_4, axis=True)"
      ],
      "metadata": {
        "id": "lTpwiOYDaKL6"
      },
      "execution_count": null,
      "outputs": []
    },
    {
      "cell_type": "code",
      "source": [
        "source_points_5, destination_points_5, matching_result_5 = fun.source_destination_points(mergered_image_4, image6)\n",
        "_H5 = fun.ransac(source_points_5, destination_points_5)\n",
        "mergered_image_5 = fun.combined_images(mergered_image_4, image6, _H5, focus=2, blend=True)\n",
        "mergered_image_5 = fun.remove_black_background((mergered_image_5))\n",
        "homography_matrix_list.append(_H5)\n",
        "print(_H5)\n",
        "show_image(mergered_image_5, axis=True)"
      ],
      "metadata": {
        "id": "yYjSpXgNkPE4"
      },
      "execution_count": null,
      "outputs": []
    },
    {
      "cell_type": "markdown",
      "source": [
        "## Final I1"
      ],
      "metadata": {
        "id": "64EkSXje2Pdy"
      }
    },
    {
      "cell_type": "code",
      "source": [
        "print((homography_matrix_list))\n",
        "show_image(mergered_image_5, axis=False)"
      ],
      "metadata": {
        "id": "dhJlCM172TBv"
      },
      "execution_count": null,
      "outputs": []
    },
    {
      "cell_type": "markdown",
      "source": [
        "### path => I2"
      ],
      "metadata": {
        "id": "5RazSl4-2mhQ"
      }
    },
    {
      "cell_type": "code",
      "source": [
        "path1 = '/content/drive/MyDrive/Colab Notebooks/content/Images/I2/2_1.JPG'\n",
        "path2 = '/content/drive/MyDrive/Colab Notebooks/content/Images/I2/2_2.JPG'\n",
        "path3 = '/content/drive/MyDrive/Colab Notebooks/content/Images/I2/2_3.JPG'\n",
        "path4 = '/content/drive/MyDrive/Colab Notebooks/content/Images/I2/2_4.JPG'\n",
        "path5 = '/content/drive/MyDrive/Colab Notebooks/content/Images/I2/2_5.JPG'\n",
        "image1 = open_resize(path1, 600 , 400)\n",
        "image2 = open_resize(path2, 600 , 400)\n",
        "image3 = open_resize(path3, 600 , 400)\n",
        "image4 = open_resize(path4, 600 , 400)\n",
        "image5 = open_resize(path5, 600 , 400)\n",
        "show_image(image1, axis=True)\n",
        "show_image(image2, axis=True)\n",
        "show_image(image3, axis=True)\n",
        "show_image(image4, axis=True)\n",
        "show_image(image5, axis=True)\n",
        "homography_matrix_list = []"
      ],
      "metadata": {
        "id": "P-8owPAW2nQO"
      },
      "execution_count": null,
      "outputs": []
    },
    {
      "cell_type": "code",
      "source": [
        "source_points_1, destination_points_1, matching_result_1 = fun.source_destination_points(image1, image2)\n",
        "_H1 = fun.ransac(source_points_1, destination_points_1)\n",
        "mergered_image_1 = fun.combined_images(image1, image2, _H1, focus=2, blend=True)\n",
        "mergered_image_1 = fun.remove_black_background((mergered_image_1))\n",
        "homography_matrix_list.append(_H1)\n",
        "print(_H1)\n",
        "show_image(mergered_image_1, axis=True)"
      ],
      "metadata": {
        "id": "5aoZrTp62-jD"
      },
      "execution_count": null,
      "outputs": []
    },
    {
      "cell_type": "code",
      "source": [
        "source_points_2, destination_points_2, matching_result_2 = fun.source_destination_points(image3, image4)\n",
        "_H2 = fun.ransac(source_points_2, destination_points_2)\n",
        "mergered_image_2 = fun.combined_images(image3, image4, _H2, focus=2, blend=True)\n",
        "mergered_image_2 = fun.remove_black_background((mergered_image_2))\n",
        "homography_matrix_list.append(_H2)\n",
        "print(_H2)\n",
        "show_image(mergered_image_2, axis=True)"
      ],
      "metadata": {
        "id": "dQLHO8Nx3MjG"
      },
      "execution_count": null,
      "outputs": []
    },
    {
      "cell_type": "code",
      "source": [
        "source_points_3, destination_points_3, matching_result_3 = fun.source_destination_points(mergered_image_2, image5)\n",
        "_H3 = fun.ransac(source_points_3, destination_points_3)\n",
        "mergered_image_3 = fun.combined_images(mergered_image_2, image5, _H3, focus=1 , blend=True)\n",
        "mergered_image_3 = fun.remove_black_background((mergered_image_3))\n",
        "homography_matrix_list.append(_H3)\n",
        "print(_H3)\n",
        "show_image(mergered_image_3, axis=True)"
      ],
      "metadata": {
        "id": "NW-by_KP3WoR"
      },
      "execution_count": null,
      "outputs": []
    },
    {
      "cell_type": "code",
      "source": [
        "source_points_4, destination_points_4, matching_result_4 = fun.source_destination_points(mergered_image_1, mergered_image_3)\n",
        "_H4 = fun.ransac(source_points_4, destination_points_4)\n",
        "mergered_image_4 = fun.combined_images(mergered_image_1, mergered_image_3, _H4, focus=1, blend=False)\n",
        "mergered_image_4 = fun.remove_black_background((mergered_image_4))\n",
        "homography_matrix_list.append(_H4)\n",
        "print(_H4)\n",
        "show_image(mergered_image_4, axis=True)"
      ],
      "metadata": {
        "id": "kkb2aD9V3dKW"
      },
      "execution_count": null,
      "outputs": []
    },
    {
      "cell_type": "markdown",
      "source": [
        "## Final I2"
      ],
      "metadata": {
        "id": "23NvHXta3n32"
      }
    },
    {
      "cell_type": "code",
      "source": [
        "print((homography_matrix_list))\n",
        "show_image(mergered_image_4, axis=False)"
      ],
      "metadata": {
        "id": "-IZMtrqn3pxr"
      },
      "execution_count": null,
      "outputs": []
    },
    {
      "cell_type": "markdown",
      "source": [
        "### path => I3"
      ],
      "metadata": {
        "id": "En8wp0Wx3vz2"
      }
    },
    {
      "cell_type": "code",
      "source": [
        "path1 = '/content/drive/MyDrive/Colab Notebooks/content/Images/I3/3_1.JPG'\n",
        "path2 = '/content/drive/MyDrive/Colab Notebooks/content/Images/I3/3_2.JPG'\n",
        "path3 = '/content/drive/MyDrive/Colab Notebooks/content/Images/I3/3_3.JPG'\n",
        "path4 = '/content/drive/MyDrive/Colab Notebooks/content/Images/I3/3_4.JPG'\n",
        "path5 = '/content/drive/MyDrive/Colab Notebooks/content/Images/I3/3_5.JPG'\n",
        "image1 = open_resize(path1, 600 , 400)\n",
        "image2 = open_resize(path2, 600 , 400)\n",
        "image3 = open_resize(path3, 600 , 400)\n",
        "image4 = open_resize(path4, 600 , 400)\n",
        "image5 = open_resize(path5, 600 , 400)\n",
        "show_image(image1, axis=True)\n",
        "show_image(image2, axis=True)\n",
        "show_image(image3, axis=True)\n",
        "show_image(image4, axis=True)\n",
        "show_image(image5, axis=True)\n",
        "homography_matrix_list = []"
      ],
      "metadata": {
        "id": "h2N1PAiw3u-0"
      },
      "execution_count": null,
      "outputs": []
    },
    {
      "cell_type": "code",
      "source": [
        "source_points_1, destination_points_1, matching_result_1 = fun.source_destination_points(image1, image2)\n",
        "_H1 = fun.ransac(source_points_1, destination_points_1)\n",
        "mergered_image_1 = fun.combined_images(image1, image2, _H1, focus=2, blend=True)\n",
        "mergered_image_1 = fun.remove_black_background((mergered_image_1))\n",
        "homography_matrix_list.append(_H1)\n",
        "print(_H1)\n",
        "show_image(mergered_image_1, axis=True)"
      ],
      "metadata": {
        "id": "vmXs4K5i4Bow"
      },
      "execution_count": null,
      "outputs": []
    },
    {
      "cell_type": "code",
      "source": [
        "source_points_2, destination_points_2, matching_result_2 = fun.source_destination_points(image4, image5)\n",
        "_H2 = fun.ransac(source_points_2, destination_points_2)\n",
        "mergered_image_2 = fun.combined_images(image4, image5, _H2, focus=2, blend=True)\n",
        "mergered_image_2 = fun.remove_black_background((mergered_image_2))\n",
        "homography_matrix_list.append(_H2)\n",
        "print(_H2)\n",
        "show_image(mergered_image_2, axis=True)"
      ],
      "metadata": {
        "id": "G5laThff4Kfi"
      },
      "execution_count": null,
      "outputs": []
    },
    {
      "cell_type": "code",
      "source": [
        "source_points_3, destination_points_3, matching_result_3 = fun.source_destination_points(image3, mergered_image_2)\n",
        "_H3 = fun.ransac(source_points_3, destination_points_3)\n",
        "mergered_image_3 = fun.combined_images(image3, mergered_image_2, _H3, focus=1 , blend=True)\n",
        "mergered_image_3 = fun.remove_black_background((mergered_image_3))\n",
        "homography_matrix_list.append(_H3)\n",
        "print(_H3)\n",
        "show_image(mergered_image_3, axis=True)"
      ],
      "metadata": {
        "id": "qbhWtmSB4VJo"
      },
      "execution_count": null,
      "outputs": []
    },
    {
      "cell_type": "code",
      "source": [
        "source_points_4, destination_points_4, matching_result_4 = fun.source_destination_points(mergered_image_1, mergered_image_3)\n",
        "_H4 = fun.ransac(source_points_4, destination_points_4)\n",
        "mergered_image_4 = fun.combined_images(mergered_image_1, mergered_image_3, _H4, focus=1, blend=False)\n",
        "mergered_image_4 = fun.remove_black_background((mergered_image_4))\n",
        "homography_matrix_list.append(_H4)\n",
        "print(_H4)\n",
        "show_image(mergered_image_4, axis=True)"
      ],
      "metadata": {
        "id": "uQJT8FwM4cMA"
      },
      "execution_count": null,
      "outputs": []
    },
    {
      "cell_type": "markdown",
      "source": [
        "## Final I3"
      ],
      "metadata": {
        "id": "0HdNd0EQ_kIi"
      }
    },
    {
      "cell_type": "code",
      "source": [
        "print((homography_matrix_list))\n",
        "show_image(mergered_image_4, axis=False)"
      ],
      "metadata": {
        "id": "hL1jAVbr_nz_"
      },
      "execution_count": null,
      "outputs": []
    },
    {
      "cell_type": "markdown",
      "source": [
        "### path => I4"
      ],
      "metadata": {
        "id": "z5mYwmuA_ibO"
      }
    },
    {
      "cell_type": "code",
      "source": [
        "path1 = '/content/drive/MyDrive/Colab Notebooks/content/Images/I4/DSC02930.JPG'\n",
        "path2 = '/content/drive/MyDrive/Colab Notebooks/content/Images/I4/DSC02931.JPG'\n",
        "path3 = '/content/drive/MyDrive/Colab Notebooks/content/Images/I4/DSC02932.JPG'\n",
        "path4 = '/content/drive/MyDrive/Colab Notebooks/content/Images/I4/DSC02933.JPG'\n",
        "path5 = '/content/drive/MyDrive/Colab Notebooks/content/Images/I4/DSC02934.JPG'\n",
        "image1 = open_resize(path1, 600 , 400)\n",
        "image2 = open_resize(path2, 600 , 400)\n",
        "image3 = open_resize(path3, 600 , 400)\n",
        "image4 = open_resize(path4, 600 , 400)\n",
        "image5 = open_resize(path5, 600 , 400)\n",
        "show_image(image1, axis=True)\n",
        "show_image(image2, axis=True)\n",
        "show_image(image3, axis=True)\n",
        "show_image(image4, axis=True)\n",
        "show_image(image5, axis=True)\n",
        "homography_matrix_list = []"
      ],
      "metadata": {
        "id": "3qMu5f36_wQ7"
      },
      "execution_count": null,
      "outputs": []
    },
    {
      "cell_type": "code",
      "source": [
        "source_points_1, destination_points_1, matching_result_1 = fun.source_destination_points(image1, image2)\n",
        "_H1 = fun.ransac(source_points_1, destination_points_1)\n",
        "mergered_image_1 = fun.combined_images(image1, image2, _H1, focus=2, blend=True)\n",
        "mergered_image_1 = fun.remove_black_background((mergered_image_1))\n",
        "homography_matrix_list.append(_H1)\n",
        "print(_H1)\n",
        "show_image(mergered_image_1, axis=True)"
      ],
      "metadata": {
        "id": "4-nJod0VAIqo"
      },
      "execution_count": null,
      "outputs": []
    },
    {
      "cell_type": "code",
      "source": [
        "source_points_2, destination_points_2, matching_result_2 = fun.source_destination_points(mergered_image_1, image3)\n",
        "_H2 = fun.ransac(source_points_2, destination_points_2)\n",
        "mergered_image_2 = fun.combined_images(mergered_image_1, image3, _H2, focus=1, blend=True)\n",
        "mergered_image_2 = fun.remove_black_background((mergered_image_2))\n",
        "homography_matrix_list.append(_H2)\n",
        "print(_H2)\n",
        "show_image(mergered_image_2, axis=True)"
      ],
      "metadata": {
        "id": "Kg6mNoq0AU0n"
      },
      "execution_count": null,
      "outputs": []
    },
    {
      "cell_type": "code",
      "source": [
        "source_points_3, destination_points_3, matching_result_3 = fun.source_destination_points(mergered_image_2, image4)\n",
        "_H3 = fun.ransac(source_points_3, destination_points_3)\n",
        "mergered_image_3 = fun.combined_images(mergered_image_2, image4, _H3, focus=1, blend=False)\n",
        "mergered_image_3 = fun.remove_black_background((mergered_image_3))\n",
        "homography_matrix_list.append(_H3)\n",
        "print(_H3)\n",
        "show_image(mergered_image_3, axis=True)"
      ],
      "metadata": {
        "id": "Q1bvl7qbAcKj"
      },
      "execution_count": null,
      "outputs": []
    },
    {
      "cell_type": "code",
      "source": [
        "source_points_4, destination_points_4, matching_result_4 = fun.source_destination_points(mergered_image_3, image5)\n",
        "_H4 = fun.ransac(source_points_4, destination_points_4)\n",
        "mergered_image_4 = fun.combined_images(mergered_image_3, image5, _H4, focus=1, blend=True)\n",
        "mergered_image_4 = fun.remove_black_background((mergered_image_4))\n",
        "homography_matrix_list.append(_H4)\n",
        "print(_H4)\n",
        "show_image(mergered_image_4, axis=True)"
      ],
      "metadata": {
        "id": "6hMwn-IOAkAn"
      },
      "execution_count": null,
      "outputs": []
    },
    {
      "cell_type": "markdown",
      "source": [
        "## Final I4"
      ],
      "metadata": {
        "id": "fKdv-4O6At_z"
      }
    },
    {
      "cell_type": "code",
      "source": [
        "print((homography_matrix_list))\n",
        "show_image(mergered_image_4, axis=False)"
      ],
      "metadata": {
        "id": "-0VujLqKAwl0"
      },
      "execution_count": null,
      "outputs": []
    },
    {
      "cell_type": "markdown",
      "source": [
        "### path => I5"
      ],
      "metadata": {
        "id": "LTAOCbWfA1T7"
      }
    },
    {
      "cell_type": "code",
      "source": [
        "path1 = '/content/drive/MyDrive/Colab Notebooks/content/Images/I5/DSC03002.JPG'\n",
        "path2 = '/content/drive/MyDrive/Colab Notebooks/content/Images/I5/DSC03003.JPG'\n",
        "path3 = '/content/drive/MyDrive/Colab Notebooks/content/Images/I5/DSC03004.JPG'\n",
        "path4 = '/content/drive/MyDrive/Colab Notebooks/content/Images/I5/DSC03005.JPG'\n",
        "path5 = '/content/drive/MyDrive/Colab Notebooks/content/Images/I5/DSC03006.JPG'\n",
        "image1 = open_resize(path1, 600 , 400)\n",
        "image2 = open_resize(path2, 600 , 400)\n",
        "image3 = open_resize(path3, 600 , 400)\n",
        "image4 = open_resize(path4, 600 , 400)\n",
        "image5 = open_resize(path5, 600 , 400)\n",
        "show_image(image1, axis=True)\n",
        "show_image(image2, axis=True)\n",
        "show_image(image3, axis=True)\n",
        "show_image(image4, axis=True)\n",
        "show_image(image5, axis=True)\n",
        "homography_matrix_list = []"
      ],
      "metadata": {
        "id": "qpFhOZF1A8Mk"
      },
      "execution_count": null,
      "outputs": []
    },
    {
      "cell_type": "code",
      "source": [
        "source_points_1, destination_points_1, matching_result_1 = fun.source_destination_points(image1, image2)\n",
        "_H1 = fun.ransac(source_points_1, destination_points_1)\n",
        "mergered_image_1 = fun.combined_images(image1, image2, _H1, focus=2, blend=True)\n",
        "mergered_image_1 = fun.remove_black_background((mergered_image_1))\n",
        "homography_matrix_list.append(_H1)\n",
        "print(_H1)\n",
        "show_image(mergered_image_1, axis=True)"
      ],
      "metadata": {
        "id": "u_kq5v_TBVXX"
      },
      "execution_count": null,
      "outputs": []
    },
    {
      "cell_type": "code",
      "source": [
        "source_points_2, destination_points_2, matching_result_2 = fun.source_destination_points(mergered_image_1, image3)\n",
        "_H2 = fun.ransac(source_points_2, destination_points_2)\n",
        "mergered_image_2 = fun.combined_images(mergered_image_1, image3, _H2, focus=2, blend=True)\n",
        "mergered_image_2 = fun.remove_black_background((mergered_image_2))\n",
        "homography_matrix_list.append(_H2)\n",
        "print(_H2)\n",
        "show_image(mergered_image_2, axis=True)"
      ],
      "metadata": {
        "id": "RNY3JgsdBcrt"
      },
      "execution_count": null,
      "outputs": []
    },
    {
      "cell_type": "code",
      "source": [
        "source_points_3, destination_points_3, matching_result_3 = fun.source_destination_points(mergered_image_2, image4)\n",
        "_H3 = fun.ransac(source_points_3, destination_points_3)\n",
        "mergered_image_3 = fun.combined_images(mergered_image_2, image4, _H3, focus=2, blend=True)\n",
        "mergered_image_3 = fun.remove_black_background((mergered_image_3))\n",
        "homography_matrix_list.append(_H3)\n",
        "print(_H3)\n",
        "show_image(mergered_image_3, axis=True)"
      ],
      "metadata": {
        "id": "zQ0lJ-U8BkXV"
      },
      "execution_count": null,
      "outputs": []
    },
    {
      "cell_type": "code",
      "source": [
        "source_points_4, destination_points_4, matching_result_4 = fun.source_destination_points(mergered_image_3, image5)\n",
        "_H4 = fun.ransac(source_points_4, destination_points_4)\n",
        "mergered_image_4 = fun.combined_images(mergered_image_3, image5, _H4, focus=1, blend=True)\n",
        "mergered_image_4 = fun.remove_black_background((mergered_image_4))\n",
        "homography_matrix_list.append(_H4)\n",
        "print(_H4)\n",
        "show_image(mergered_image_4, axis=True)"
      ],
      "metadata": {
        "id": "ovhqAD4aBuc8"
      },
      "execution_count": null,
      "outputs": []
    },
    {
      "cell_type": "markdown",
      "source": [
        "## Final I5"
      ],
      "metadata": {
        "id": "FNKV9UVXB9jW"
      }
    },
    {
      "cell_type": "code",
      "source": [
        "print((homography_matrix_list))\n",
        "show_image(mergered_image_4, axis=False)"
      ],
      "metadata": {
        "id": "QVDDngpmB-LQ"
      },
      "execution_count": null,
      "outputs": []
    },
    {
      "cell_type": "markdown",
      "source": [
        "### path => I6"
      ],
      "metadata": {
        "id": "8oUtfX9JCGpn"
      }
    },
    {
      "cell_type": "code",
      "source": [
        "path1 = '/content/drive/MyDrive/Colab Notebooks/content/Images/I6/1_1.JPG'\n",
        "path2 = '/content/drive/MyDrive/Colab Notebooks/content/Images/I6/1_2.JPG'\n",
        "path3 = '/content/drive/MyDrive/Colab Notebooks/content/Images/I6/1_3.JPG'\n",
        "path4 = '/content/drive/MyDrive/Colab Notebooks/content/Images/I6/1_4.JPG'\n",
        "path5 = '/content/drive/MyDrive/Colab Notebooks/content/Images/I6/1_5.JPG'\n",
        "image1 = open_resize(path1, 600 , 400)\n",
        "image2 = open_resize(path2, 600 , 400)\n",
        "image3 = open_resize(path3, 600 , 400)\n",
        "image4 = open_resize(path4, 600 , 400)\n",
        "image5 = open_resize(path5, 600 , 400)\n",
        "show_image(image1, axis=True)\n",
        "show_image(image2, axis=True)\n",
        "show_image(image3, axis=True)\n",
        "show_image(image4, axis=True)\n",
        "show_image(image5, axis=True)\n",
        "homography_matrix_list = []"
      ],
      "metadata": {
        "id": "-PsvQ34_CLqM"
      },
      "execution_count": null,
      "outputs": []
    },
    {
      "cell_type": "code",
      "source": [
        "source_points_1, destination_points_1, matching_result_1 = fun.source_destination_points(image1, image2)\n",
        "_H1 = fun.ransac(source_points_1, destination_points_1)\n",
        "mergered_image_1 = fun.combined_images(image1, image2, _H1, focus=2, blend=True)\n",
        "mergered_image_1 = fun.remove_black_background((mergered_image_1))\n",
        "homography_matrix_list.append(_H1)\n",
        "print(_H1)\n",
        "show_image(mergered_image_1, axis=True)"
      ],
      "metadata": {
        "id": "RwXZAStdCWK_"
      },
      "execution_count": null,
      "outputs": []
    },
    {
      "cell_type": "code",
      "source": [
        "source_points_2, destination_points_2, matching_result_2 = fun.source_destination_points(mergered_image_1, image3)\n",
        "_H2 = fun.ransac(source_points_2, destination_points_2)\n",
        "mergered_image_2 = fun.combined_images(mergered_image_1, image3, _H2, focus=2, blend=True)\n",
        "mergered_image_2 = fun.remove_black_background((mergered_image_2))\n",
        "homography_matrix_list.append(_H2)\n",
        "print(_H2)\n",
        "show_image(mergered_image_2, axis=True)"
      ],
      "metadata": {
        "id": "-V0kMD5LCeVU"
      },
      "execution_count": null,
      "outputs": []
    },
    {
      "cell_type": "code",
      "source": [
        "source_points_3, destination_points_3, matching_result_3 = fun.source_destination_points(mergered_image_2, image4)\n",
        "_H3 = fun.ransac(source_points_3, destination_points_3)\n",
        "mergered_image_3 = fun.combined_images(mergered_image_2, image4, _H3, focus=2, blend=True)\n",
        "mergered_image_3 = fun.remove_black_background((mergered_image_3))\n",
        "homography_matrix_list.append(_H3)\n",
        "print(_H3)\n",
        "show_image(mergered_image_3, axis=True)"
      ],
      "metadata": {
        "id": "a5ErGg-aCk2Z"
      },
      "execution_count": null,
      "outputs": []
    },
    {
      "cell_type": "code",
      "source": [
        "source_points_4, destination_points_4, matching_result_4 = fun.source_destination_points(mergered_image_3, image5)\n",
        "_H4 = fun.ransac(source_points_4, destination_points_4)\n",
        "mergered_image_4 = fun.combined_images(mergered_image_3, image5, _H4, focus=2, blend=True)\n",
        "mergered_image_4 = fun.remove_black_background((mergered_image_4))\n",
        "homography_matrix_list.append(_H4)\n",
        "print(_H4)\n",
        "show_image(mergered_image_4, axis=True)"
      ],
      "metadata": {
        "id": "cyIfpKJtCs9b"
      },
      "execution_count": null,
      "outputs": []
    },
    {
      "cell_type": "markdown",
      "source": [
        "## Final I6"
      ],
      "metadata": {
        "id": "DRiBaKS1C2pr"
      }
    },
    {
      "cell_type": "code",
      "source": [
        "print((homography_matrix_list))\n",
        "show_image(mergered_image_4, axis=False)"
      ],
      "metadata": {
        "id": "z7XGkTP6C4t9"
      },
      "execution_count": null,
      "outputs": []
    },
    {
      "cell_type": "code",
      "source": [],
      "metadata": {
        "id": "4B0Jmss9GZll"
      },
      "execution_count": null,
      "outputs": []
    }
  ]
}